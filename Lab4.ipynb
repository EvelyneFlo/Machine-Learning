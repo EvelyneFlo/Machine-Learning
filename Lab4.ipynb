{
 "cells": [
  {
   "cell_type": "code",
   "execution_count": 23,
   "metadata": {},
   "outputs": [],
   "source": [
    "import pandas as pd\n",
    "import numpy as np\n",
    "from sklearn.ensemble import RandomForestClassifier\n",
    "from sklearn.model_selection import train_test_split\n",
    "from sklearn.metrics import roc_auc_score\n",
    "from sklearn.linear_model import LogisticRegression\n",
    "from sklearn.ensemble import GradientBoostingClassifier\n",
    "from sklearn.ensemble import AdaBoostClassifier"
   ]
  },
  {
   "cell_type": "markdown",
   "metadata": {},
   "source": [
    "<h3>Wczytaj końcowe i przetworzone zbiory danych z zajęć Lab3"
   ]
  },
  {
   "cell_type": "code",
   "execution_count": 24,
   "metadata": {},
   "outputs": [
    {
     "data": {
      "text/html": [
       "<div>\n",
       "<style scoped>\n",
       "    .dataframe tbody tr th:only-of-type {\n",
       "        vertical-align: middle;\n",
       "    }\n",
       "\n",
       "    .dataframe tbody tr th {\n",
       "        vertical-align: top;\n",
       "    }\n",
       "\n",
       "    .dataframe thead th {\n",
       "        text-align: right;\n",
       "    }\n",
       "</style>\n",
       "<table border=\"1\" class=\"dataframe\">\n",
       "  <thead>\n",
       "    <tr style=\"text-align: right;\">\n",
       "      <th></th>\n",
       "      <th>cabin</th>\n",
       "      <th>cabinReduced</th>\n",
       "      <th>sex</th>\n",
       "      <th>cabin_map</th>\n",
       "      <th>cabinReduced_map</th>\n",
       "      <th>sex_map</th>\n",
       "    </tr>\n",
       "  </thead>\n",
       "  <tbody>\n",
       "    <tr>\n",
       "      <th>0</th>\n",
       "      <td>NaN</td>\n",
       "      <td>n</td>\n",
       "      <td>female</td>\n",
       "      <td>0</td>\n",
       "      <td>0</td>\n",
       "      <td>0</td>\n",
       "    </tr>\n",
       "    <tr>\n",
       "      <th>1</th>\n",
       "      <td>NaN</td>\n",
       "      <td>n</td>\n",
       "      <td>female</td>\n",
       "      <td>0</td>\n",
       "      <td>0</td>\n",
       "      <td>0</td>\n",
       "    </tr>\n",
       "    <tr>\n",
       "      <th>2</th>\n",
       "      <td>NaN</td>\n",
       "      <td>n</td>\n",
       "      <td>female</td>\n",
       "      <td>0</td>\n",
       "      <td>0</td>\n",
       "      <td>0</td>\n",
       "    </tr>\n",
       "    <tr>\n",
       "      <th>3</th>\n",
       "      <td>NaN</td>\n",
       "      <td>n</td>\n",
       "      <td>male</td>\n",
       "      <td>0</td>\n",
       "      <td>0</td>\n",
       "      <td>1</td>\n",
       "    </tr>\n",
       "    <tr>\n",
       "      <th>4</th>\n",
       "      <td>NaN</td>\n",
       "      <td>n</td>\n",
       "      <td>female</td>\n",
       "      <td>0</td>\n",
       "      <td>0</td>\n",
       "      <td>0</td>\n",
       "    </tr>\n",
       "    <tr>\n",
       "      <th>5</th>\n",
       "      <td>NaN</td>\n",
       "      <td>n</td>\n",
       "      <td>male</td>\n",
       "      <td>0</td>\n",
       "      <td>0</td>\n",
       "      <td>1</td>\n",
       "    </tr>\n",
       "    <tr>\n",
       "      <th>6</th>\n",
       "      <td>E36</td>\n",
       "      <td>E</td>\n",
       "      <td>female</td>\n",
       "      <td>64</td>\n",
       "      <td>2</td>\n",
       "      <td>0</td>\n",
       "    </tr>\n",
       "    <tr>\n",
       "      <th>7</th>\n",
       "      <td>NaN</td>\n",
       "      <td>n</td>\n",
       "      <td>female</td>\n",
       "      <td>0</td>\n",
       "      <td>0</td>\n",
       "      <td>0</td>\n",
       "    </tr>\n",
       "    <tr>\n",
       "      <th>8</th>\n",
       "      <td>C68</td>\n",
       "      <td>C</td>\n",
       "      <td>male</td>\n",
       "      <td>157</td>\n",
       "      <td>1</td>\n",
       "      <td>1</td>\n",
       "    </tr>\n",
       "    <tr>\n",
       "      <th>9</th>\n",
       "      <td>E24</td>\n",
       "      <td>E</td>\n",
       "      <td>male</td>\n",
       "      <td>30</td>\n",
       "      <td>2</td>\n",
       "      <td>1</td>\n",
       "    </tr>\n",
       "    <tr>\n",
       "      <th>10</th>\n",
       "      <td>NaN</td>\n",
       "      <td>n</td>\n",
       "      <td>male</td>\n",
       "      <td>0</td>\n",
       "      <td>0</td>\n",
       "      <td>1</td>\n",
       "    </tr>\n",
       "    <tr>\n",
       "      <th>11</th>\n",
       "      <td>NaN</td>\n",
       "      <td>n</td>\n",
       "      <td>female</td>\n",
       "      <td>0</td>\n",
       "      <td>0</td>\n",
       "      <td>0</td>\n",
       "    </tr>\n",
       "    <tr>\n",
       "      <th>12</th>\n",
       "      <td>C22 C26</td>\n",
       "      <td>C</td>\n",
       "      <td>female</td>\n",
       "      <td>1</td>\n",
       "      <td>1</td>\n",
       "      <td>0</td>\n",
       "    </tr>\n",
       "    <tr>\n",
       "      <th>13</th>\n",
       "      <td>NaN</td>\n",
       "      <td>n</td>\n",
       "      <td>male</td>\n",
       "      <td>0</td>\n",
       "      <td>0</td>\n",
       "      <td>1</td>\n",
       "    </tr>\n",
       "    <tr>\n",
       "      <th>14</th>\n",
       "      <td>NaN</td>\n",
       "      <td>n</td>\n",
       "      <td>male</td>\n",
       "      <td>0</td>\n",
       "      <td>0</td>\n",
       "      <td>1</td>\n",
       "    </tr>\n",
       "    <tr>\n",
       "      <th>15</th>\n",
       "      <td>NaN</td>\n",
       "      <td>n</td>\n",
       "      <td>male</td>\n",
       "      <td>0</td>\n",
       "      <td>0</td>\n",
       "      <td>1</td>\n",
       "    </tr>\n",
       "    <tr>\n",
       "      <th>16</th>\n",
       "      <td>NaN</td>\n",
       "      <td>n</td>\n",
       "      <td>male</td>\n",
       "      <td>0</td>\n",
       "      <td>0</td>\n",
       "      <td>1</td>\n",
       "    </tr>\n",
       "    <tr>\n",
       "      <th>17</th>\n",
       "      <td>NaN</td>\n",
       "      <td>n</td>\n",
       "      <td>male</td>\n",
       "      <td>0</td>\n",
       "      <td>0</td>\n",
       "      <td>1</td>\n",
       "    </tr>\n",
       "    <tr>\n",
       "      <th>18</th>\n",
       "      <td>NaN</td>\n",
       "      <td>n</td>\n",
       "      <td>female</td>\n",
       "      <td>0</td>\n",
       "      <td>0</td>\n",
       "      <td>0</td>\n",
       "    </tr>\n",
       "    <tr>\n",
       "      <th>19</th>\n",
       "      <td>NaN</td>\n",
       "      <td>n</td>\n",
       "      <td>male</td>\n",
       "      <td>0</td>\n",
       "      <td>0</td>\n",
       "      <td>1</td>\n",
       "    </tr>\n",
       "  </tbody>\n",
       "</table>\n",
       "</div>"
      ],
      "text/plain": [
       "      cabin cabinReduced     sex  cabin_map  cabinReduced_map  sex_map\n",
       "0       NaN            n  female          0                 0        0\n",
       "1       NaN            n  female          0                 0        0\n",
       "2       NaN            n  female          0                 0        0\n",
       "3       NaN            n    male          0                 0        1\n",
       "4       NaN            n  female          0                 0        0\n",
       "5       NaN            n    male          0                 0        1\n",
       "6       E36            E  female         64                 2        0\n",
       "7       NaN            n  female          0                 0        0\n",
       "8       C68            C    male        157                 1        1\n",
       "9       E24            E    male         30                 2        1\n",
       "10      NaN            n    male          0                 0        1\n",
       "11      NaN            n  female          0                 0        0\n",
       "12  C22 C26            C  female          1                 1        0\n",
       "13      NaN            n    male          0                 0        1\n",
       "14      NaN            n    male          0                 0        1\n",
       "15      NaN            n    male          0                 0        1\n",
       "16      NaN            n    male          0                 0        1\n",
       "17      NaN            n    male          0                 0        1\n",
       "18      NaN            n  female          0                 0        0\n",
       "19      NaN            n    male          0                 0        1"
      ]
     },
     "execution_count": 24,
     "metadata": {},
     "output_type": "execute_result"
    }
   ],
   "source": [
    "df = pd.read_csv('titanic_lab3.csv')\n",
    "\n",
    "X_test = pd.read_csv('X_test.csv')\n",
    "X_test.drop('Unnamed: 0', inplace=True, axis=1)\n",
    "\n",
    "X_train = pd.read_csv('X_train.csv')\n",
    "X_train.drop('Unnamed: 0', inplace=True, axis=1)\n",
    "\n",
    "y_test = pd.read_csv('y_test.csv')\n",
    "y_test.drop('Unnamed: 0', inplace=True, axis=1)\n",
    "\n",
    "y_train = pd.read_csv('y_train.csv')\n",
    "y_train.drop('Unnamed: 0', inplace=True, axis=1)\n",
    "\n",
    "X_train.head(20)"
   ]
  },
  {
   "cell_type": "markdown",
   "metadata": {},
   "source": [
    "<h3>Scharakteryzuj algorytm Random Forests na podstawie informacji\n",
    "zawartej w dokumentacji biblioteki scikit-learn dla\n",
    "RandomForestClassifier. "
   ]
  },
  {
   "cell_type": "markdown",
   "metadata": {},
   "source": [
    "<h6>Algorytm ten dopasowuje drzewa decyzyjne do różnych pozbiorów zbioru danych, następnie uśrednia otrzymane wyniki w celu najpeszego dopasowania oraz kotrolowania zjawiska overfittingu. \n",
    "    Przyjmuje parametry m.in:\n",
    "    \n",
    "    - n_estimators, default=100 - liczba drzew dezyzyjnych\n",
    "    - criterion{“gini”, “entropy”}, default=”gini” - funkcja mierząca jakość podziału \n",
    "    - max_depth, default=None - maksymalna głębokość drzewa\n",
    "    - min_samples_split, default=2 - minimalna liczba próbek potrzebna do podziału\n",
    "    - min_samples_leaf, default=1 - minimalna liczba próbek znajdujących się w liściu\n",
    "    - bootstrap, default=True - czy użyte wartości bootstrapowe czy cały zbiór"
   ]
  },
  {
   "cell_type": "markdown",
   "metadata": {},
   "source": [
    "<h3>Zbuduj, wytrenuj model oraz dokonaj predykcji używając metody\n",
    "Random Forest dla danych o wysokiej i niskiej liczbności cech"
   ]
  },
  {
   "cell_type": "markdown",
   "metadata": {},
   "source": [
    "<h6> wysoka liczebność cech: cabin_map"
   ]
  },
  {
   "cell_type": "code",
   "execution_count": 25,
   "metadata": {},
   "outputs": [
    {
     "data": {
      "text/html": [
       "<div>\n",
       "<style scoped>\n",
       "    .dataframe tbody tr th:only-of-type {\n",
       "        vertical-align: middle;\n",
       "    }\n",
       "\n",
       "    .dataframe tbody tr th {\n",
       "        vertical-align: top;\n",
       "    }\n",
       "\n",
       "    .dataframe thead th {\n",
       "        text-align: right;\n",
       "    }\n",
       "</style>\n",
       "<table border=\"1\" class=\"dataframe\">\n",
       "  <thead>\n",
       "    <tr style=\"text-align: right;\">\n",
       "      <th></th>\n",
       "      <th>survived</th>\n",
       "    </tr>\n",
       "  </thead>\n",
       "  <tbody>\n",
       "    <tr>\n",
       "      <th>0</th>\n",
       "      <td>1</td>\n",
       "    </tr>\n",
       "    <tr>\n",
       "      <th>1</th>\n",
       "      <td>1</td>\n",
       "    </tr>\n",
       "    <tr>\n",
       "      <th>2</th>\n",
       "      <td>1</td>\n",
       "    </tr>\n",
       "    <tr>\n",
       "      <th>3</th>\n",
       "      <td>0</td>\n",
       "    </tr>\n",
       "    <tr>\n",
       "      <th>4</th>\n",
       "      <td>1</td>\n",
       "    </tr>\n",
       "    <tr>\n",
       "      <th>5</th>\n",
       "      <td>0</td>\n",
       "    </tr>\n",
       "    <tr>\n",
       "      <th>6</th>\n",
       "      <td>1</td>\n",
       "    </tr>\n",
       "    <tr>\n",
       "      <th>7</th>\n",
       "      <td>1</td>\n",
       "    </tr>\n",
       "    <tr>\n",
       "      <th>8</th>\n",
       "      <td>0</td>\n",
       "    </tr>\n",
       "    <tr>\n",
       "      <th>9</th>\n",
       "      <td>1</td>\n",
       "    </tr>\n",
       "  </tbody>\n",
       "</table>\n",
       "</div>"
      ],
      "text/plain": [
       "   survived\n",
       "0         1\n",
       "1         1\n",
       "2         1\n",
       "3         0\n",
       "4         1\n",
       "5         0\n",
       "6         1\n",
       "7         1\n",
       "8         0\n",
       "9         1"
      ]
     },
     "execution_count": 25,
     "metadata": {},
     "output_type": "execute_result"
    }
   ],
   "source": [
    "y_train.head(10)"
   ]
  },
  {
   "cell_type": "code",
   "execution_count": 26,
   "metadata": {},
   "outputs": [
    {
     "data": {
      "text/plain": [
       "array([1, 1, 1, 0, 1, 0, 1, 1, 0, 1, 1, 1, 0, 0, 0, 0, 0, 1, 1, 0, 1, 1,\n",
       "       0, 0, 0, 1, 0, 1, 1, 1, 0, 1, 0, 0, 0, 0, 0, 0, 0, 1, 1, 0, 0, 0,\n",
       "       0, 0, 0, 0, 0, 0, 1, 1, 0, 0, 1, 0, 0, 1, 0, 0, 0, 1, 1, 0, 0, 0,\n",
       "       1, 0, 1, 0, 0, 1, 0, 1, 0, 0, 0, 1, 1, 1, 0, 1, 0, 0, 0, 1, 0, 0,\n",
       "       1, 1, 0, 1, 0, 0, 1, 1, 1, 0, 0, 0, 1, 0, 0, 0, 1, 1, 1, 0, 1, 0,\n",
       "       1, 0, 0, 0, 0, 0, 1, 1, 0, 0, 0, 0, 1, 0, 0, 0, 0, 0, 0, 1, 1, 1,\n",
       "       1, 1, 0, 0, 0, 1, 0, 0, 1, 0, 0, 1, 0, 0, 1, 1, 1, 0, 0, 0, 0, 0,\n",
       "       0, 0, 0, 0, 1, 1, 1, 1, 1, 0, 1, 0, 0, 0, 0, 1, 1, 0, 0, 0, 0, 0,\n",
       "       0, 0, 0, 0, 1, 1, 1, 0, 1, 1, 0, 1, 0, 0, 0, 0, 0, 1, 0, 0, 0, 1,\n",
       "       0, 1, 0, 1, 1, 1, 1, 1, 1, 0, 0, 1, 0, 0, 0, 0, 0, 0, 0, 0, 0, 0,\n",
       "       1, 0, 0, 0, 1, 0, 1, 0, 1, 0, 1, 0, 0, 1, 1, 0, 1, 0, 1, 0, 1, 0,\n",
       "       0, 0, 0, 1, 1, 0, 0, 1, 1, 1, 1, 0, 0, 0, 0, 0, 0, 1, 0, 1, 1, 1,\n",
       "       1, 0, 0, 1, 0, 0, 0, 1, 0, 0, 0, 0, 0, 0, 1, 1, 1, 0, 1, 0, 0, 0,\n",
       "       0, 0, 0, 0, 0, 1, 0, 0, 0, 0, 0, 1, 1, 0, 1, 0, 1, 0, 0, 1, 0, 1,\n",
       "       0, 1, 0, 0, 1, 0, 0, 1, 0, 0, 1, 0, 0, 1, 0, 1, 0, 0, 1, 0, 1, 0,\n",
       "       1, 1, 0, 0, 1, 1, 0, 0, 0, 1, 0, 1, 0, 1, 0, 1, 0, 1, 1, 0, 0, 0,\n",
       "       1, 0, 0, 0, 1, 0, 0, 1, 0, 1, 0, 0, 0, 0, 0, 1, 0, 1, 0, 0, 1, 0,\n",
       "       0, 1, 1, 1, 1, 0, 0, 0, 0, 0, 0, 1, 0, 0, 1, 0, 0, 0, 0, 1, 0, 0,\n",
       "       1, 0, 0, 0, 1, 1, 0, 0, 0, 0, 0, 0, 1, 1, 0, 1, 1, 0, 0, 0, 0, 0,\n",
       "       0, 1, 0, 0, 0, 0, 0, 0, 0, 0, 1, 1, 1, 0, 1, 0, 1, 0, 0, 0, 0, 1,\n",
       "       0, 0, 0, 0, 1, 0, 0, 0, 1, 0, 0, 0, 1, 0, 0, 1, 1, 0, 1, 0, 1, 0,\n",
       "       1, 0, 0, 0, 0, 0, 0, 1, 1, 0, 0, 0, 1, 0, 0, 0, 0, 1, 0, 0, 0, 0,\n",
       "       0, 0, 0, 0, 0, 1, 0, 1, 0, 1, 0, 0, 0, 1, 0, 1, 1, 0, 0, 0, 1, 0,\n",
       "       0, 0, 0, 1, 0, 0, 0, 0, 0, 0, 1, 0, 1, 1, 0, 1, 1, 1, 0, 1, 1, 0,\n",
       "       0, 1, 1, 1, 0, 1, 0, 0, 1, 0, 0, 0, 0, 1, 1, 0, 0, 1, 1, 0, 1, 0,\n",
       "       0, 1, 1, 0, 1, 0, 1, 0, 0, 1, 0, 1, 0, 1, 1, 0, 1, 0, 1, 1, 0, 0,\n",
       "       1, 1, 1, 0, 0, 0, 1, 0, 0, 0, 0, 0, 0, 1, 0, 0, 1, 0, 0, 1, 0, 0,\n",
       "       0, 0, 0, 0, 1, 1, 1, 0, 0, 1, 1, 0, 0, 0, 0, 0, 1, 0, 1, 0, 0, 1,\n",
       "       0, 0, 1, 0, 0, 0, 0, 0, 0, 0, 1, 1, 1, 1, 1, 1, 1, 0, 0, 0, 0, 1,\n",
       "       1, 1, 0, 0, 0, 0, 1, 0, 0, 0, 0, 0, 1, 0, 1, 0, 1, 0, 0, 0, 1, 0,\n",
       "       1, 1, 0, 1, 0, 0, 1, 0, 0, 0, 1, 0, 0, 1, 1, 0, 0, 0, 0, 0, 1, 0,\n",
       "       0, 0, 1, 1, 0, 1, 0, 1, 0, 0, 0, 0, 1, 0, 1, 1, 0, 1, 0, 1, 1, 0,\n",
       "       0, 1, 0, 0, 1, 1, 0, 0, 0, 1, 0, 1, 0, 0, 0, 0, 0, 1, 1, 0, 0, 1,\n",
       "       0, 0, 0, 0, 0, 0, 1, 0, 0, 0, 0, 0, 0, 0, 1, 1, 1, 1, 1, 0, 1, 1,\n",
       "       0, 0, 1, 1, 1, 1, 0, 0, 1, 1, 0, 0, 0, 0, 1, 0, 0, 0, 1, 0, 0, 0,\n",
       "       1, 1, 0, 1, 0, 1, 0, 1, 0, 1, 1, 1, 1, 1, 0, 0, 0, 0, 1, 0, 0, 1,\n",
       "       0, 0, 0, 1, 1, 1, 1, 1, 1, 0, 1, 0, 0, 1, 1, 0, 0, 0, 1, 1, 0, 1,\n",
       "       1, 1, 1, 1, 0, 1, 0, 0, 1, 0, 0, 1, 0, 1, 0, 0, 1, 1, 1, 1, 0, 0,\n",
       "       0, 0, 0, 0, 0, 0, 1, 0, 0, 1, 0, 0, 0, 0, 1, 1, 1, 0, 1, 0, 0, 1,\n",
       "       1, 1, 0, 0, 0, 1, 0, 1, 0, 1, 0, 0, 0, 1, 0, 0, 0, 0, 1, 0, 1, 0,\n",
       "       0, 0, 0, 0, 0, 0, 1, 0, 1, 0, 1, 0, 0, 0, 0, 0, 1, 1, 1, 0, 0, 0,\n",
       "       1, 1, 0, 1, 0, 1, 0, 1, 1, 1, 0, 1, 1, 0], dtype=int64)"
      ]
     },
     "execution_count": 26,
     "metadata": {},
     "output_type": "execute_result"
    }
   ],
   "source": [
    "y_train.values.ravel()"
   ]
  },
  {
   "cell_type": "code",
   "execution_count": 27,
   "metadata": {},
   "outputs": [],
   "source": [
    "Rfc = RandomForestClassifier(n_estimators=220, random_state=42)"
   ]
  },
  {
   "cell_type": "code",
   "execution_count": 28,
   "metadata": {},
   "outputs": [
    {
     "data": {
      "text/plain": [
       "RandomForestClassifier(n_estimators=220, random_state=42)"
      ]
     },
     "execution_count": 28,
     "metadata": {},
     "output_type": "execute_result"
    }
   ],
   "source": [
    "Rfc.fit(X_train[['cabin_map', 'sex_map']], y_train.values.ravel())"
   ]
  },
  {
   "cell_type": "code",
   "execution_count": 29,
   "metadata": {},
   "outputs": [],
   "source": [
    "predTrain = Rfc.predict_proba(X_train[['cabin_map', 'sex_map']])\n",
    "predTest = Rfc.predict_proba(X_test[['cabin_map', 'sex_map']].fillna(0))"
   ]
  },
  {
   "cell_type": "code",
   "execution_count": 30,
   "metadata": {},
   "outputs": [
    {
     "data": {
      "text/plain": [
       "0.7578120679165975"
      ]
     },
     "execution_count": 30,
     "metadata": {},
     "output_type": "execute_result"
    }
   ],
   "source": [
    "roc_auc_score(y_test, predTest[:,1])"
   ]
  },
  {
   "cell_type": "code",
   "execution_count": 31,
   "metadata": {},
   "outputs": [
    {
     "data": {
      "text/plain": [
       "0.8535969286350438"
      ]
     },
     "execution_count": 31,
     "metadata": {},
     "output_type": "execute_result"
    }
   ],
   "source": [
    "roc_auc_score(y_train, predTrain[:,1])"
   ]
  },
  {
   "cell_type": "markdown",
   "metadata": {},
   "source": [
    "<h6> niska liczebność cech: cabinReduced_map"
   ]
  },
  {
   "cell_type": "code",
   "execution_count": 32,
   "metadata": {},
   "outputs": [
    {
     "data": {
      "text/plain": [
       "0.8013245948786019"
      ]
     },
     "execution_count": 32,
     "metadata": {},
     "output_type": "execute_result"
    }
   ],
   "source": [
    "Rfc = RandomForestClassifier(n_estimators=220, random_state=42)\n",
    "Rfc.fit(X_train[['cabinReduced_map', 'sex_map']], y_train.values.ravel())\n",
    "predTrain = Rfc.predict_proba(X_train[['cabinReduced_map', 'sex_map']])\n",
    "predTest = Rfc.predict_proba(X_test[['cabinReduced_map', 'sex_map']].fillna(0))\n",
    "roc_auc_score(y_test, predTest[:,1])"
   ]
  },
  {
   "cell_type": "code",
   "execution_count": 33,
   "metadata": {},
   "outputs": [
    {
     "data": {
      "text/plain": [
       "0.816719415917359"
      ]
     },
     "execution_count": 33,
     "metadata": {},
     "output_type": "execute_result"
    }
   ],
   "source": [
    "roc_auc_score(y_train, predTrain[:,1])"
   ]
  },
  {
   "cell_type": "markdown",
   "metadata": {},
   "source": [
    "<h3>Odpowiedz jak różnią się wyniki dla danych z dużą liczebnością i niską\n",
    "liczebnością cech. Gdzie widoczne jest zbyt duże dopasowanie?\n",
    "Dlaczego?"
   ]
  },
  {
   "cell_type": "markdown",
   "metadata": {},
   "source": [
    "<h6> Dla danych z dużą liczebnością cech model jest gorszy od modelu z małą liczebnością cech: 0.75 < 0.80). W modelu pierwszym występuje zbyt duże dopasowanie. Widać to po różnicy wartości oceny modelu pomiędzy zbiorem testowym a treningowym. Dla pierwszego modelu jest to 0.75:0.85. Dla drugiego modelu jest to 0.80:0.82. Im większa różnica pomiędzy tymi wartościami, tym większe zjawisko overfittingu zachodzi. Dużo lepsza sytuacja zachodzi dla modelu drugiego - różnica pomiędzy oceną modelu to zaledwie 0.02."
   ]
  },
  {
   "cell_type": "markdown",
   "metadata": {},
   "source": [
    "<h3>Scharakteryzuj algorytm LogisticRegression"
   ]
  },
  {
   "cell_type": "markdown",
   "metadata": {},
   "source": [
    "<h6>Używany do przewidywania danych binarnych. Jeden z klasyfikatorów liniowych. Wykorzystuje funkcję logiczną (sigmoidalną).\n",
    "    Przyjmuje parametry m.in.:\n",
    "    \n",
    "    - penalty, default=\"l2\" - określa normę kary\n",
    "    - tol, default=1e-4 - tolerancja na warunek stopu\n",
    "    - class_weight, default=None - wagi klas\n",
    "    - solver, default=’lbfgs’ - algorytm użyty do optymalizacji\n",
    "    - max_iter, default=100 - maksymalna ilość iteracji"
   ]
  },
  {
   "cell_type": "markdown",
   "metadata": {},
   "source": [
    "<h3>Zbuduj, wytrenuj model oraz dokonaj predykcji używając metody LogisticRegression dla danych o wysokiej i niskiej liczbności cech"
   ]
  },
  {
   "cell_type": "markdown",
   "metadata": {},
   "source": [
    "<h6> wysoka liczebność cech: cabin_map"
   ]
  },
  {
   "cell_type": "code",
   "execution_count": 35,
   "metadata": {},
   "outputs": [
    {
     "data": {
      "text/plain": [
       "0.8011033681765389"
      ]
     },
     "execution_count": 35,
     "metadata": {},
     "output_type": "execute_result"
    }
   ],
   "source": [
    "Rfc = LogisticRegression(random_state=42)\n",
    "Rfc.fit(X_train[['cabin_map', 'sex_map']], y_train.values.ravel())\n",
    "predTrain = Rfc.predict_proba(X_train[['cabin_map', 'sex_map']])\n",
    "predTest = Rfc.predict_proba(X_test[['cabin_map', 'sex_map']].fillna(0))\n",
    "roc_auc_score(y_test, predTest[:,1])"
   ]
  },
  {
   "cell_type": "code",
   "execution_count": 36,
   "metadata": {},
   "outputs": [
    {
     "data": {
      "text/plain": [
       "0.8121304826933818"
      ]
     },
     "execution_count": 36,
     "metadata": {},
     "output_type": "execute_result"
    }
   ],
   "source": [
    "roc_auc_score(y_train, predTrain[:,1])"
   ]
  },
  {
   "cell_type": "markdown",
   "metadata": {},
   "source": [
    "<h6> niska liczebność cech: cabinReduced_map"
   ]
  },
  {
   "cell_type": "code",
   "execution_count": 37,
   "metadata": {},
   "outputs": [
    {
     "data": {
      "text/plain": [
       "0.7960151540290914"
      ]
     },
     "execution_count": 37,
     "metadata": {},
     "output_type": "execute_result"
    }
   ],
   "source": [
    "Rfc = LogisticRegression(random_state=42)\n",
    "Rfc.fit(X_train[['cabinReduced_map', 'sex_map']], y_train.values.ravel())\n",
    "predTrain = Rfc.predict_proba(X_train[['cabinReduced_map', 'sex_map']])\n",
    "predTest = Rfc.predict_proba(X_test[['cabinReduced_map', 'sex_map']].fillna(0))\n",
    "roc_auc_score(y_test, predTest[:,1])"
   ]
  },
  {
   "cell_type": "code",
   "execution_count": 38,
   "metadata": {},
   "outputs": [
    {
     "data": {
      "text/plain": [
       "0.812497798620301"
      ]
     },
     "execution_count": 38,
     "metadata": {},
     "output_type": "execute_result"
    }
   ],
   "source": [
    "roc_auc_score(y_train, predTrain[:,1])"
   ]
  },
  {
   "cell_type": "markdown",
   "metadata": {},
   "source": [
    "<h3>Odpowiedz jak różnią się wyniki dla danych z dużą liczebnością i niską liczebnością cech. Gdzie widoczne jest zbyt duże dopasowanie? Dlaczego?"
   ]
  },
  {
   "cell_type": "markdown",
   "metadata": {},
   "source": [
    "<h6> Dla danych z dużą liczebnością cech oraz dla danych z małą liczebnością cech zachodzą niewielkie różnice pomiędzy modelami. Dla danych testowych model z większą liczebnością cech wypada nieznacznie lepiej niż model z niższą liczebnością cech (0.801 > 0.796). Dla danych treningowych sytuacja natomiast jest odwrotna: model ze zmienną cabin wypada nieznacznie gorzej niż model ze zmienną cabinReduced (0.8121 < 0.8125). Różnice w jednym i drugim modelu są nieznaczne, stąd moim zdaniem można uznać wyniki za wręcz identyczne. Różnice pomiędzy wynikami funcji ROC dla zbiorów testowych oraz treningowych także są bardzo podobne: 0.01 dla dużej kardynalności oraz 0.016 dla małej kardynalności. Z powyższych wyników wynika, że algorytm regresji logicznej jest dość odporny na zjawisko overfittingu."
   ]
  },
  {
   "cell_type": "markdown",
   "metadata": {},
   "source": [
    "<h3>Scharakteryzuj algorytm GradientBoosting"
   ]
  },
  {
   "cell_type": "markdown",
   "metadata": {},
   "source": [
    "<h6>Algorytm polega na korygowaniu parametrów tak, aby osiągnąć jak najlepsze wyniki. Najpierw tworzone jest jedno drzewo decyzyjne. Następnie naprawiamy błędy pierwszego drzewa tworząc kolejne aż do osiągnięcia zadowalających wyników. \n",
    "    \n",
    "    Algorytm GradientBoosting pozwala na optymalizację funkcji strat. Na każdym etapie drzewa regresji dopasowywane są do ujemnego gradientu wielomianowej funkcji strat.\n",
    "    \n",
    "    Przyjmuje parametry m.in.:\n",
    "    \n",
    "    - loss{‘deviance’, ‘exponential’}, default=’deviance’ - funkcja strat\n",
    "    - learning_rate, default=0.1 - zmniejsza udział każdego drzewa o learning_rate\n",
    "    - n_estimators, default=100 - liczba etapów wzmocnienia\n",
    "    - criterion{‘friedman_mse’, ‘squared_error’, ‘mse’, ‘mae’}, default=’friedman_mse’ -funkcja oceniajaca jakosc podzialu"
   ]
  },
  {
   "cell_type": "markdown",
   "metadata": {},
   "source": [
    "<h3>Zbuduj, wytrenuj model oraz dokonaj predykcji używając metody GradientBoosting dla danych o wysokiej i niskiej liczbności cech"
   ]
  },
  {
   "cell_type": "markdown",
   "metadata": {},
   "source": [
    "<h6> wysoka liczebność cech: cabin_map"
   ]
  },
  {
   "cell_type": "code",
   "execution_count": 39,
   "metadata": {},
   "outputs": [
    {
     "data": {
      "text/plain": [
       "0.7528621204579393"
      ]
     },
     "execution_count": 39,
     "metadata": {},
     "output_type": "execute_result"
    }
   ],
   "source": [
    "Rfc = GradientBoostingClassifier(n_estimators=220, random_state=42)\n",
    "Rfc.fit(X_train[['cabin_map', 'sex_map']], y_train.values.ravel())\n",
    "predTrain = Rfc.predict_proba(X_train[['cabin_map', 'sex_map']])\n",
    "predTest = Rfc.predict_proba(X_test[['cabin_map', 'sex_map']].fillna(0))\n",
    "roc_auc_score(y_test, predTest[:,1])"
   ]
  },
  {
   "cell_type": "code",
   "execution_count": 40,
   "metadata": {},
   "outputs": [
    {
     "data": {
      "text/plain": [
       "0.8631119206597597"
      ]
     },
     "execution_count": 40,
     "metadata": {},
     "output_type": "execute_result"
    }
   ],
   "source": [
    "roc_auc_score(y_train, predTrain[:,1])"
   ]
  },
  {
   "cell_type": "markdown",
   "metadata": {},
   "source": [
    "<h6> niska liczebność cech: cabinReduced_map"
   ]
  },
  {
   "cell_type": "code",
   "execution_count": 41,
   "metadata": {},
   "outputs": [
    {
     "data": {
      "text/plain": [
       "0.8012416348653283"
      ]
     },
     "execution_count": 41,
     "metadata": {},
     "output_type": "execute_result"
    }
   ],
   "source": [
    "Rfc = GradientBoostingClassifier(n_estimators=220, random_state=42)\n",
    "Rfc.fit(X_train[['cabinReduced_map', 'sex_map']], y_train.values.ravel())\n",
    "predTrain = Rfc.predict_proba(X_train[['cabinReduced_map', 'sex_map']])\n",
    "predTest = Rfc.predict_proba(X_test[['cabinReduced_map', 'sex_map']].fillna(0))\n",
    "roc_auc_score(y_test, predTest[:,1])"
   ]
  },
  {
   "cell_type": "code",
   "execution_count": 42,
   "metadata": {},
   "outputs": [
    {
     "data": {
      "text/plain": [
       "0.816719415917359"
      ]
     },
     "execution_count": 42,
     "metadata": {},
     "output_type": "execute_result"
    }
   ],
   "source": [
    "roc_auc_score(y_train, predTrain[:,1])"
   ]
  },
  {
   "cell_type": "markdown",
   "metadata": {},
   "source": [
    "<h3>Odpowiedz jak różnią się wyniki dla danych z dużą liczebnością i niską liczebnością cech. Gdzie widoczne jest zbyt duże dopasowanie? Dlaczego"
   ]
  },
  {
   "cell_type": "markdown",
   "metadata": {},
   "source": [
    "<h6>Dla zbioru o dużej kardynalności zmiennych model treningowy wypada znacznie lepiej niż model testowy (0.86 > 0.75). Różnica ta (ponad 0.1) ozancza wystepowanie zjawiska overfittingu. Dla zbioru o małej kardynalności zmiennych modele są porównywalnej jakości (0.82 dla treningowego oraz 0.8 dla testowego). Różnica pomiędzy wynikami to zaledwie 0.02 co można interpretować jako brak zjawiska overfittingu. Porównując dużą kardynalność z małą dla zbioru treningowego, znacznie lepiej wypada model z dużą liczbą etykiet (0.86 > 0.81). Dla zbioru testowego sytuacja jednak się odwraca - model z małą ilością etykiet wypada dużo lepiej (0.80 > 0.75). Oznacza to, że model z małą ilością etykiet jest lepszy od modelu z dużą ilością etykiet."
   ]
  },
  {
   "cell_type": "markdown",
   "metadata": {},
   "source": [
    "<h3>Scharakteryzuj algorytm AdaBoost"
   ]
  },
  {
   "cell_type": "markdown",
   "metadata": {},
   "source": [
    "<h6> Algorytm ten zaczyna od dopasowania klasyfikatora do oryginalnego zbioru danych. Nastepnie dopasowuje kopie tego klasyfikatora do tego samego zbioru danych, z tą różnicą, że wagi klas źle dopasowanych zostają zmienione tak, aby kolejne klasyfikatory skupiały się na trudniejszych przypadkach.  \n",
    "    \n",
    "Przyjmuje paramtery m.in.:\n",
    "  \n",
    "    - base_estimator, default=None - Estymator bazowy\n",
    "    - n_estimators, default=50 - Maksymalna liczba estymatorów, przy której kończy się wzmacnianie\n",
    "    - learning_rate, default=1.0 - Waga przypisana do każdego klasyfikatora w każdej iteracji wzmacniającej"
   ]
  },
  {
   "cell_type": "markdown",
   "metadata": {},
   "source": [
    "<h3>Zbuduj, wytrenuj model oraz dokonaj predykcji używając metody AdaBoost dla danych o wysokiej i niskiej liczbności cech"
   ]
  },
  {
   "cell_type": "markdown",
   "metadata": {},
   "source": [
    "<h6> wysoka liczebność cech: cabin_map"
   ]
  },
  {
   "cell_type": "code",
   "execution_count": 43,
   "metadata": {},
   "outputs": [
    {
     "data": {
      "text/plain": [
       "0.785230352303523"
      ]
     },
     "execution_count": 43,
     "metadata": {},
     "output_type": "execute_result"
    }
   ],
   "source": [
    "Rfc = AdaBoostClassifier(n_estimators=220, random_state=42)\n",
    "Rfc.fit(X_train[['cabin_map', 'sex_map']], y_train.values.ravel())\n",
    "predTrain = Rfc.predict_proba(X_train[['cabin_map', 'sex_map']])\n",
    "predTest = Rfc.predict_proba(X_test[['cabin_map', 'sex_map']].fillna(0))\n",
    "roc_auc_score(y_test, predTest[:,1])"
   ]
  },
  {
   "cell_type": "code",
   "execution_count": 44,
   "metadata": {},
   "outputs": [
    {
     "data": {
      "text/plain": [
       "0.8302497245130548"
      ]
     },
     "execution_count": 44,
     "metadata": {},
     "output_type": "execute_result"
    }
   ],
   "source": [
    "roc_auc_score(y_train, predTrain[:,1])"
   ]
  },
  {
   "cell_type": "markdown",
   "metadata": {},
   "source": [
    "<h6> niska liczebność cech: cabinReduced_map"
   ]
  },
  {
   "cell_type": "code",
   "execution_count": 45,
   "metadata": {},
   "outputs": [
    {
     "data": {
      "text/plain": [
       "0.7999419279907085"
      ]
     },
     "execution_count": 45,
     "metadata": {},
     "output_type": "execute_result"
    }
   ],
   "source": [
    "Rfc = AdaBoostClassifier(n_estimators=220, random_state=42)\n",
    "Rfc.fit(X_train[['cabinReduced_map', 'sex_map']], y_train.values.ravel())\n",
    "predTrain = Rfc.predict_proba(X_train[['cabinReduced_map', 'sex_map']])\n",
    "predTest = Rfc.predict_proba(X_test[['cabinReduced_map', 'sex_map']].fillna(0))\n",
    "roc_auc_score(y_test, predTest[:,1])"
   ]
  },
  {
   "cell_type": "code",
   "execution_count": 46,
   "metadata": {},
   "outputs": [
    {
     "data": {
      "text/plain": [
       "0.8161759896145195"
      ]
     },
     "execution_count": 46,
     "metadata": {},
     "output_type": "execute_result"
    }
   ],
   "source": [
    "roc_auc_score(y_train, predTrain[:,1])"
   ]
  },
  {
   "cell_type": "markdown",
   "metadata": {},
   "source": [
    "<h3>Odpowiedz jak różnią się wyniki dla danych z dużą liczebnością i niską liczebnością cech. Gdzie widoczne jest zbyt duże dopasowanie? Dlaczego"
   ]
  },
  {
   "cell_type": "markdown",
   "metadata": {},
   "source": [
    "<h6>Dla danych z dużą liczebnością cech lepszy jest model trenignowy niż testowy (0.83 > 0.79). Zauważalna różnica (0.04) pomiędzy oceną jakości modeli wskazuje na występowanie zjawiska overfittingu. Dla danych z małą liczebnością cech różnica jest niewielka (0.01). Minimalnie lepiej wypada model treningowy (0.81 > 0.80). Zjawisko overfittingu w tym przypadku nie zachodzi. Lepiej wytrenowany model to model z małą liczbą etykiet (0.80 > 0.79 + brak zjawiska overfittingu)."
   ]
  },
  {
   "cell_type": "markdown",
   "metadata": {},
   "source": [
    "<h3> Porównaj w/w algorytmy pomiędzy sobą w oparciu o przeprowadzone badania. Które z nich mają największą tendencję do nadmiernego dopasowania?"
   ]
  },
  {
   "cell_type": "markdown",
   "metadata": {},
   "source": [
    "<h6>Z występujących wyżej algorytmów dość mocno wyróżnia się LogisticRegression – wydaje się on być odporny na zjawisko występowania overfittingu. Zarówno zbiór z dużą kardynalnością zmiennych, jak i małą kardynalnością zmiennych mógłby być uznany za dobry i wystarczający do dalszej predykcji. Nie posiada także paramteru n_estimators. \n",
    "    \n",
    "Pozostałe trzy algorytmy (RandomForestClassifier, GradientBoosting, AdaBoost) dla zbioru z niską kardynalnością osiągają bardzo zbliżone wyniki funkcji roc_auc_score (w okolicach 0.80).  Nie są jednak odporne na zjawisko overfittingu. Największą różnicę w jakości modeli pomiędzy zbiorami treningowym i testowym (a tym samym największe zjawisko overfittingu) widać w algorytmie GradientBoostingClassifier (0.11 różnicy), zaraz za nim znajduje się RandomForest (0.1 różnicy). Na samym końcu z dużo mniejszą różnicą (0.05) jest AdaBoost.  \n"
   ]
  },
  {
   "cell_type": "markdown",
   "metadata": {},
   "source": [
    "<h3>Jaka jest różnica pomiędzy predict_proba a predict?"
   ]
  },
  {
   "cell_type": "markdown",
   "metadata": {},
   "source": [
    "<h6> Predict przewiduje dokładną klasę elementu oraz zwraca jeden element - przewidywaną klasę. Predict_proba przewiduje prawdopodobienstwo nalezenia do jakiejs klasy oraz zwraca listę elementów - prawdopodobieństw przynależenia do danej klasy."
   ]
  },
  {
   "cell_type": "code",
   "execution_count": null,
   "metadata": {},
   "outputs": [],
   "source": []
  }
 ],
 "metadata": {
  "kernelspec": {
   "display_name": "Python 3",
   "language": "python",
   "name": "python3"
  },
  "language_info": {
   "codemirror_mode": {
    "name": "ipython",
    "version": 3
   },
   "file_extension": ".py",
   "mimetype": "text/x-python",
   "name": "python",
   "nbconvert_exporter": "python",
   "pygments_lexer": "ipython3",
   "version": "3.6.10"
  }
 },
 "nbformat": 4,
 "nbformat_minor": 4
}
